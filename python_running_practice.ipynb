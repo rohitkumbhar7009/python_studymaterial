{
 "cells": [
  {
   "cell_type": "code",
   "execution_count": 1,
   "id": "d286192c-28a1-4fa7-a179-edad82cce771",
   "metadata": {},
   "outputs": [
    {
     "data": {
      "text/plain": [
       "False"
      ]
     },
     "execution_count": 1,
     "metadata": {},
     "output_type": "execute_result"
    }
   ],
   "source": [
    "x=10.5\n",
    "y=10.5\n",
    "\n",
    "x is y\n",
    "#because Python is not guaranteed to reuse the same memory address for floating-point numbers"
   ]
  },
  {
   "cell_type": "code",
   "execution_count": null,
   "id": "0525502f-b81e-4676-9f8c-6762b2dc8286",
   "metadata": {},
   "outputs": [],
   "source": [
    "x = int(input('Enter First Number: '))\n",
    "y = int(input('Enter Second Number: '))\n",
    "print('The Sum:', x + y)"
   ]
  },
  {
   "cell_type": "code",
   "execution_count": 1,
   "id": "77f6af9b-1f09-44aa-995c-771038dc7707",
   "metadata": {},
   "outputs": [
    {
     "name": "stdout",
     "output_type": "stream",
     "text": [
      "Enter some value:  10.5\n"
     ]
    },
    {
     "name": "stdout",
     "output_type": "stream",
     "text": [
      "<class 'str'>\n"
     ]
    }
   ],
   "source": [
    "x = input('Enter some value: ')\n",
    "print(type(x))  # it is always str type"
   ]
  },
  {
   "cell_type": "code",
   "execution_count": 2,
   "id": "1a041f1b-9d9b-4e7e-8108-a6012bf56948",
   "metadata": {},
   "outputs": [
    {
     "name": "stdout",
     "output_type": "stream",
     "text": [
      "Enter First Number:  10\n",
      "Enter Second Number:  20\n"
     ]
    },
    {
     "name": "stdout",
     "output_type": "stream",
     "text": [
      "The Sum: 30\n"
     ]
    }
   ],
   "source": [
    "x = int(input('Enter First Number: '))\n",
    "y = int(input('Enter Second Number: '))\n",
    "print('The Sum:', x + y)"
   ]
  },
  {
   "cell_type": "code",
   "execution_count": 3,
   "id": "d93e7bda-3d52-422a-837e-73355ed1395a",
   "metadata": {},
   "outputs": [
    {
     "name": "stdout",
     "output_type": "stream",
     "text": [
      "Enter First Number: 10\n",
      "Enter Second Number:  20\n"
     ]
    },
    {
     "name": "stdout",
     "output_type": "stream",
     "text": [
      "The Sum: 30\n"
     ]
    }
   ],
   "source": [
    "print('The Sum:', int(input('Enter First Number:')) + int(input('Enter Second Number: ')))"
   ]
  },
  {
   "cell_type": "code",
   "execution_count": 9,
   "id": "f0ed0195-4fdc-41bc-a207-8517e7cb689a",
   "metadata": {},
   "outputs": [
    {
     "name": "stdout",
     "output_type": "stream",
     "text": [
      "Enter Employee Number:  1\n",
      "Enter Employee Name:  a\n",
      "Enter Employee Salary:  10\n",
      "Enter Employee Address:  jal\n",
      "Employee Married?[True|False]:  \n"
     ]
    },
    {
     "name": "stdout",
     "output_type": "stream",
     "text": [
      "Please confirm your information:\n",
      "Employee Number: 1\n",
      "Employee Name: a\n",
      "Employee Salary: 10.0\n",
      "Employee Address: jal\n",
      "Employee Married?: False\n",
      "<class 'str'>\n"
     ]
    }
   ],
   "source": [
    "eno =int(input('Enter Employee Number: '))\n",
    "ename = input('Enter Employee Name: ')\n",
    "esal = float(input('Enter Employee Salary: '))\n",
    "eaddr = input('Enter Employee Address: ')\n",
    "married = bool(input('Employee Married?[True|False]: '))\n",
    "print('Please confirm your information:')\n",
    "print('Employee Number:', eno)\n",
    "print('Employee Name:', ename)\n",
    "print('Employee Salary:', esal)\n",
    "print('Employee Address:', eaddr)\n",
    "print('Employee Married?:', married)\n",
    "print(type(eno))"
   ]
  },
  {
   "cell_type": "code",
   "execution_count": 12,
   "id": "eed8975f-76a2-49e1-937d-20e0ebf646ba",
   "metadata": {},
   "outputs": [
    {
     "name": "stdout",
     "output_type": "stream",
     "text": [
      "Enter Employee Number:  10\n",
      "Enter Employee Name:  aman\n",
      "Enter Employee Salary:  100\n",
      "Enter Employee Address:  jal\n",
      "Employee Married?[True|False]:  True\n"
     ]
    },
    {
     "name": "stdout",
     "output_type": "stream",
     "text": [
      "Please confirm your information:\n",
      "Employee Number: 10\n",
      "Employee Name: aman\n",
      "Employee Salary: 100\n",
      "Employee Address: jal\n",
      "Employee Married?: True\n"
     ]
    }
   ],
   "source": [
    "eno = eval(input('Enter Employee Number: '))\n",
    "ename = input('Enter Employee Name: ')\n",
    "esal = eval(input('Enter Employee Salary: '))\n",
    "eaddr = input('Enter Employee Address: ')\n",
    "married = eval(input('Employee Married?[True|False]: '))\n",
    "print('Please confirm your information:')\n",
    "print('Employee Number:', eno)\n",
    "print('Employee Name:', ename)\n",
    "print('Employee Salary:', esal)\n",
    "print('Employee Address:', eaddr)\n",
    "print('Employee Married?:', married)"
   ]
  },
  {
   "cell_type": "code",
   "execution_count": 13,
   "id": "d73ae37d-da85-4fbb-adbc-d5de5917d848",
   "metadata": {},
   "outputs": [
    {
     "name": "stdout",
     "output_type": "stream",
     "text": [
      "Enter some value: 1\n",
      "Enter some value: 2\n"
     ]
    },
    {
     "name": "stdout",
     "output_type": "stream",
     "text": [
      "3\n"
     ]
    }
   ],
   "source": [
    "x = eval(input('Enter some value:'))\n",
    "y = eval(input('Enter some value:'))\n",
    "print(x + y)\n",
    "\n"
   ]
  },
  {
   "cell_type": "code",
   "execution_count": 15,
   "id": "22db81f3-d984-4fea-9b00-ddbdd1a60816",
   "metadata": {},
   "outputs": [
    {
     "name": "stdout",
     "output_type": "stream",
     "text": [
      "Enter Some Expression: 10.5\n"
     ]
    },
    {
     "name": "stdout",
     "output_type": "stream",
     "text": [
      "10.5\n",
      "<class 'float'>\n"
     ]
    }
   ],
   "source": [
    "x = eval(input('Enter Some Expression:'))\n",
    "print(x)\n",
    "print(type(x))\n"
   ]
  },
  {
   "cell_type": "code",
   "execution_count": null,
   "id": "a77e9ac0-bdae-42dc-aad4-3033cfd2bc49",
   "metadata": {},
   "outputs": [],
   "source": [
    "x = eval(input('Enter Some Value:'))\n",
    "print(type(x))\n",
    "print(x)"
   ]
  },
  {
   "cell_type": "code",
   "execution_count": 21,
   "id": "a4a15b7a-85a8-49e8-8506-9e79ef7cf6a6",
   "metadata": {},
   "outputs": [
    {
     "name": "stdout",
     "output_type": "stream",
     "text": [
      "<class 'bool'>\n",
      "True\n"
     ]
    }
   ],
   "source": [
    "x = eval('True')  # Example: eval('10') returns int 10\n",
    "print(type(x))\n",
    "print(x)\n"
   ]
  },
  {
   "cell_type": "code",
   "execution_count": null,
   "id": "7ec6c3aa-7958-4cd1-ba17-8e01f60a3e5c",
   "metadata": {},
   "outputs": [],
   "source": [
    "# eval() is always taking string argument only, but that string should represent some valid non-string value internally."
   ]
  },
  {
   "cell_type": "code",
   "execution_count": 29,
   "id": "626ecb0f-1657-413f-9ccc-d951075e69dc",
   "metadata": {},
   "outputs": [
    {
     "name": "stdout",
     "output_type": "stream",
     "text": [
      "['10', '20', '30']\n",
      "<class 'list'>\n",
      "<class 'str'>\n",
      "10\n",
      "20\n",
      "30\n"
     ]
    }
   ],
   "source": [
    "s = '10 20 30'# default seperator is space\"\n",
    "l = s.split()\n",
    "print(l) \n",
    "print(type(l)) # output always in list when you apply split()\n",
    "print(type(s))\n",
    "\n",
    "for x in l:\n",
    "    print(int(x))"
   ]
  },
  {
   "cell_type": "code",
   "execution_count": 30,
   "id": "181acd72-182b-4e81-ba57-e3ba69133df9",
   "metadata": {},
   "outputs": [
    {
     "name": "stdout",
     "output_type": "stream",
     "text": [
      "Enter Two Numbers:  10 20\n"
     ]
    },
    {
     "name": "stdout",
     "output_type": "stream",
     "text": [
      "['10', '20']\n",
      "<class 'list'>\n"
     ]
    }
   ],
   "source": [
    "s = input('Enter Two Numbers: ')\n",
    "l = s.split()\n",
    "print(l)\n",
    "print(type(l))"
   ]
  },
  {
   "cell_type": "code",
   "execution_count": 33,
   "id": "15980b2a-8331-4338-b919-5a4a9d75383c",
   "metadata": {},
   "outputs": [
    {
     "name": "stdout",
     "output_type": "stream",
     "text": [
      "Enter Two Numbers:  10 20\n"
     ]
    },
    {
     "name": "stdout",
     "output_type": "stream",
     "text": [
      "10 20\n"
     ]
    }
   ],
   "source": [
    "a, b = input('Enter Two Numbers: ').split()\n",
    "print(a, b)"
   ]
  },
  {
   "cell_type": "code",
   "execution_count": null,
   "id": "00a33ff8-d3c4-429b-b44d-94e557e2b8a9",
   "metadata": {},
   "outputs": [],
   "source": [
    "a, b = [int(x) for x in input('Enter Two Numbers: ').split()]  # for each string present in this list, convert into int value # list comprehension\n",
    "print('The Product:', a * b)\n",
    "\n",
    "a, b = [int(x) for x in input('Enter 2 int values: ').split()]\n",
    "print('The Product:', a * b)\n",
    "\n",
    "a, b = [int(x) for x in input('Enter 2 int values: ').split(',')]\n",
    "print('The Product:', a * b)"
   ]
  },
  {
   "cell_type": "code",
   "execution_count": 35,
   "id": "0cf0d93e-ed93-4bd2-bb44-132293125788",
   "metadata": {},
   "outputs": [
    {
     "name": "stdout",
     "output_type": "stream",
     "text": [
      "Enter Two Numbers:  10 20\n"
     ]
    },
    {
     "name": "stdout",
     "output_type": "stream",
     "text": [
      "The Product: 200\n"
     ]
    }
   ],
   "source": [
    "a, b = [int(x) for x in input('Enter Two Numbers: ').split()]  # for each string present in this list, convert into int value # list comprehension\n",
    "print('The Product:', a * b)"
   ]
  },
  {
   "cell_type": "code",
   "execution_count": null,
   "id": "7d815f94-4c1a-44ae-85cc-1a13c9f1dcb7",
   "metadata": {},
   "outputs": [],
   "source": [
    "#default seperator is always space "
   ]
  },
  {
   "cell_type": "code",
   "execution_count": 42,
   "id": "0f281895-73a2-4891-b420-c9be4cfbf4c4",
   "metadata": {},
   "outputs": [
    {
     "name": "stdout",
     "output_type": "stream",
     "text": [
      "Enter 2 int values:  10&20\n"
     ]
    },
    {
     "name": "stdout",
     "output_type": "stream",
     "text": [
      "The Product: 200\n"
     ]
    }
   ],
   "source": [
    "a, b = [int(x) for x in input('Enter 2 int values: ').split('&')]# explicitly we are passing ,\n",
    "print('The Product:', a * b)"
   ]
  },
  {
   "cell_type": "code",
   "execution_count": 47,
   "id": "94357771-952c-4109-9c04-19e9a6204c1c",
   "metadata": {},
   "outputs": [
    {
     "name": "stdout",
     "output_type": "stream",
     "text": [
      "aman\n",
      "\n",
      "abhi\n",
      "\n",
      "pankaj\n"
     ]
    }
   ],
   "source": [
    "print(\"aman\")\n",
    "print()# new line character \\n\n",
    "print(\"abhi\")\n",
    "print()\n",
    "print(\"pankaj\")"
   ]
  },
  {
   "cell_type": "code",
   "execution_count": 53,
   "id": "c5536881-393a-4546-9cf0-c73a6327f2ea",
   "metadata": {},
   "outputs": [
    {
     "name": "stdout",
     "output_type": "stream",
     "text": [
      "aman/nabhi/npankaj\n"
     ]
    }
   ],
   "source": [
    "#print(\"aman\"\\n\"abhi\")\n",
    "print(\"aman/nabhi/npankaj\")"
   ]
  },
  {
   "cell_type": "code",
   "execution_count": 65,
   "id": "514e8895-cb1b-4453-8b96-cacf61217c55",
   "metadata": {},
   "outputs": [
    {
     "name": "stdout",
     "output_type": "stream",
     "text": [
      "10*20*30\n"
     ]
    }
   ],
   "source": [
    "a, b, c = 10, 20, 30\n",
    "print(a, b, c, sep='*')"
   ]
  },
  {
   "cell_type": "code",
   "execution_count": 69,
   "id": "bee2a522-295b-418d-8cdf-eaf55781e611",
   "metadata": {},
   "outputs": [
    {
     "name": "stdout",
     "output_type": "stream",
     "text": [
      "Hello$$durga\n"
     ]
    }
   ],
   "source": [
    "print('Hello', end='$$')\n",
    "print('durga')  # Hello***durga\n"
   ]
  },
  {
   "cell_type": "code",
   "execution_count": 70,
   "id": "2b83b97e-b61d-419d-a24d-9607f500a9b9",
   "metadata": {},
   "outputs": [
    {
     "name": "stdout",
     "output_type": "stream",
     "text": [
      "10*20*30\n",
      "10-20-30\n"
     ]
    }
   ],
   "source": [
    "a, b, c = 10, 20, 30\n",
    "print(a, b, c, sep='*')\n",
    "print(a, b, c, sep='-')"
   ]
  },
  {
   "cell_type": "code",
   "execution_count": 72,
   "id": "bfdf53a9-05ba-4328-8984-ad91fb8fa976",
   "metadata": {},
   "outputs": [
    {
     "name": "stdout",
     "output_type": "stream",
     "text": [
      "10**20**30###10-20-30\n",
      "durga\n"
     ]
    }
   ],
   "source": [
    "a, b, c = 10, 20, 30\n",
    "print(a, b, c, sep='**', end='###')\n",
    "print(a, b, c, sep='-')\n",
    "print('durga')\n"
   ]
  },
  {
   "cell_type": "code",
   "execution_count": 80,
   "id": "2869dfb3-5897-4bed-a696-e518a4b20758",
   "metadata": {},
   "outputs": [
    {
     "name": "stdout",
     "output_type": "stream",
     "text": [
      "10@@20@@30###10-20-30&&durga**"
     ]
    }
   ],
   "source": [
    "a, b, c = 10, 20, 30\n",
    "print(a, b, c, sep='@@', end='###')\n",
    "print(a, b, c, sep='-', end ='&&')\n",
    "print('durga', end='**')"
   ]
  },
  {
   "cell_type": "code",
   "execution_count": 77,
   "id": "6ec65f61-72a7-4b21-a4ba-0ec0fde873cd",
   "metadata": {},
   "outputs": [
    {
     "name": "stdout",
     "output_type": "stream",
     "text": [
      "10-20-30\n",
      "aman\n"
     ]
    }
   ],
   "source": [
    "a, b, c = 10, 20, 30\n",
    "print(a,b,c , sep='-' end='###')\n",
    "print('aman')"
   ]
  },
  {
   "cell_type": "code",
   "execution_count": 81,
   "id": "2234d505-01b2-43f4-89c8-58cd26aa7482",
   "metadata": {},
   "outputs": [
    {
     "name": "stdout",
     "output_type": "stream",
     "text": [
      "\n",
      "10\n"
     ]
    }
   ],
   "source": [
    "print()\n",
    "print(10)"
   ]
  },
  {
   "cell_type": "code",
   "execution_count": 85,
   "id": "bc4f32dd-2764-472b-9ee1-72876a69a2a3",
   "metadata": {},
   "outputs": [
    {
     "name": "stdout",
     "output_type": "stream",
     "text": [
      "20 + 10 = 30\n"
     ]
    }
   ],
   "source": [
    "x = 5\n",
    "y = 10\n",
    "z = 20\n",
    "print(f\"{z} + {y} = {z + y}\")  "
   ]
  },
  {
   "cell_type": "code",
   "execution_count": 86,
   "id": "43709c72-c8f6-4a92-8428-c8e34d7708c7",
   "metadata": {},
   "outputs": [
    {
     "name": "stdout",
     "output_type": "stream",
     "text": [
      "Hi Aman,what is your age ,is it 28?\n"
     ]
    }
   ],
   "source": [
    "name = \"Aman\"\n",
    "age = 28\n",
    "print(f\"Hi {name},what is your age ,is it {age}?\") "
   ]
  },
  {
   "cell_type": "code",
   "execution_count": 89,
   "id": "c085721b-ece5-4327-8c35-50c1ca09347e",
   "metadata": {},
   "outputs": [
    {
     "name": "stdout",
     "output_type": "stream",
     "text": [
      "Enter Your Name:  aman\n"
     ]
    },
    {
     "name": "stdout",
     "output_type": "stream",
     "text": [
      "How are you\n"
     ]
    }
   ],
   "source": [
    "name = input('Enter Your Name: ')\n",
    "#if name == 'durga':\n",
    "#        print('Hello Durga Good Morning!!!')\n",
    "print('How are you')"
   ]
  },
  {
   "cell_type": "code",
   "execution_count": 91,
   "id": "1b522e2d-2ea3-4754-92a6-f2691d49a8ae",
   "metadata": {},
   "outputs": [
    {
     "name": "stdout",
     "output_type": "stream",
     "text": [
      "Enter Your Name:  aman\n"
     ]
    },
    {
     "name": "stdout",
     "output_type": "stream",
     "text": [
      "Hello Guest, Good Morning\n",
      "How are you\n"
     ]
    }
   ],
   "source": [
    "name = input('Enter Your Name: ')\n",
    "if name == 'durga':\n",
    "    print('Hello Durga, Good Morning')\n",
    "else:\n",
    "    print('Hello Guest, Good Morning')\n",
    "print('How are you')"
   ]
  },
  {
   "cell_type": "code",
   "execution_count": 94,
   "id": "a0367a82-3756-467d-b80d-cb53dca6427d",
   "metadata": {},
   "outputs": [
    {
     "name": "stdout",
     "output_type": "stream",
     "text": [
      "Enter First Number:  20\n",
      "Enter Second Number:  30\n"
     ]
    },
    {
     "name": "stdout",
     "output_type": "stream",
     "text": [
      "Biggest Number: 30\n"
     ]
    }
   ],
   "source": [
    "n1 = int(input('Enter First Number: '))\n",
    "n2 = int(input('Enter Second Number: '))\n",
    "if n1 > n2:\n",
    "    print('Biggest Number:', n1)\n",
    "else:\n",
    "    print('Biggest Number:', n2)"
   ]
  },
  {
   "cell_type": "code",
   "execution_count": 93,
   "id": "864277f9-ce4e-4f29-b9e6-98c0e9c5171f",
   "metadata": {},
   "outputs": [
    {
     "ename": "IndentationError",
     "evalue": "expected an indented block after 'if' statement on line 3 (4200676182.py, line 4)",
     "output_type": "error",
     "traceback": [
      "\u001b[1;36m  Cell \u001b[1;32mIn[93], line 4\u001b[1;36m\u001b[0m\n\u001b[1;33m    print(\"ganesh\")\u001b[0m\n\u001b[1;37m    ^\u001b[0m\n\u001b[1;31mIndentationError\u001b[0m\u001b[1;31m:\u001b[0m expected an indented block after 'if' statement on line 3\n"
     ]
    }
   ],
   "source": [
    "a=20 \n",
    "b =10\n",
    "if a>b:\n",
    "    print('aman')\n",
    "elif:\n",
    "    print('durga')\n",
    "print(\"ganesh\")"
   ]
  },
  {
   "cell_type": "code",
   "execution_count": 97,
   "id": "715af36d-6378-47f4-a65a-5af2e74a13dc",
   "metadata": {
    "scrolled": true
   },
   "outputs": [
    {
     "name": "stdout",
     "output_type": "stream",
     "text": [
      "Enter First Number:  10\n",
      "Enter Second Number:  10\n",
      "Enter Third Number:  10\n"
     ]
    },
    {
     "name": "stdout",
     "output_type": "stream",
     "text": [
      "Biggest Number: 10\n"
     ]
    }
   ],
   "source": [
    "n1 = int(input('Enter First Number: '))\n",
    "n2 = int(input('Enter Second Number: '))\n",
    "n3 = int(input('Enter Third Number: '))\n",
    "if n1 > n2 and n1 > n3:\n",
    "    print('Biggest Number:', n1)\n",
    "elif n2 > n3:\n",
    "    print('Biggest Number:', n2)\n",
    "else:\n",
    "    print('Biggest Number:', n3)"
   ]
  },
  {
   "cell_type": "code",
   "execution_count": 103,
   "id": "89f0e5af-5ff8-4ebe-a2ce-790d4b19a621",
   "metadata": {},
   "outputs": [
    {
     "name": "stdout",
     "output_type": "stream",
     "text": [
      "Select Your IPL Team for the Match:  MI\n"
     ]
    },
    {
     "name": "stdout",
     "output_type": "stream",
     "text": [
      "Mumbai Indians (MI) - The champions with a legacy of success!\n"
     ]
    }
   ],
   "source": [
    "chosen_team = input('Select Your IPL Team for the Match: ')\n",
    "\n",
    "if chosen_team == 'RCB':\n",
    "    print(\"Royal Challengers Bangalore (RCB) - The team with the most passionate fans!\")\n",
    "elif chosen_team == 'MI':\n",
    "    print(\"Mumbai Indians (MI) - The champions with a legacy of success!\")\n",
    "elif chosen_team == 'CSK':\n",
    "    print(\"Chennai Super Kings (CSK) - The team with the coolest captain!\")\n",
    "else:\n",
    "    print(\"Other teams are not recommended in this IPL season!\")"
   ]
  },
  {
   "cell_type": "code",
   "execution_count": 105,
   "id": "f1334986-4d26-43a0-af28-a36f9448d30e",
   "metadata": {},
   "outputs": [
    {
     "name": "stdout",
     "output_type": "stream",
     "text": [
      "Enter a digit from 0 to 9:  4\n"
     ]
    },
    {
     "name": "stdout",
     "output_type": "stream",
     "text": [
      "FOUR\n"
     ]
    }
   ],
   "source": [
    "n = int(input('Enter a digit from 0 to 9: '))\n",
    "if n == 0:\n",
    "    print('ZERO')\n",
    "elif n == 1:\n",
    "    print('ONE')\n",
    "elif n == 2:\n",
    "    print('TWO')\n",
    "elif n == 3:\n",
    "    print('THREE')\n",
    "elif n == 4:\n",
    "    print('FOUR')\n",
    "elif n == 5:\n",
    "    print('FIVE')\n",
    "elif n == 6:\n",
    "    print('SIX')\n",
    "elif n == 7:\n",
    "    print('SEVEN')\n",
    "elif n == 8:\n",
    "    print('EIGHT')\n",
    "elif n == 9:\n",
    "    print('NINE')\n",
    "else:\n",
    "    print('Please enter a digit from 0 to 9')"
   ]
  },
  {
   "cell_type": "code",
   "execution_count": null,
   "id": "acd05610-5cef-4bed-b1e0-9fcfe7308aea",
   "metadata": {},
   "outputs": [],
   "source": [
    "s = input('Enter Any String: ')\n",
    "i = 0\n",
    "for ch in s:\n",
    "    print('The character present at', i, 'index:', ch)\n",
    "    i = i + 1  # i += 1"
   ]
  },
  {
   "cell_type": "code",
   "execution_count": 106,
   "id": "c7d44259-df50-44ca-9868-daeae1344a42",
   "metadata": {},
   "outputs": [
    {
     "name": "stdout",
     "output_type": "stream",
     "text": [
      "1\n",
      "2\n",
      "3\n",
      "4\n"
     ]
    }
   ],
   "source": [
    "l = [1,2,3,4]\n",
    "for x in l:\n",
    "    print(x)"
   ]
  },
  {
   "cell_type": "code",
   "execution_count": 113,
   "id": "9de2fe56-fd05-480f-b968-f6c9ca8fb2c0",
   "metadata": {},
   "outputs": [
    {
     "name": "stdout",
     "output_type": "stream",
     "text": [
      "Enter Any String:  amanabhipankaj\n"
     ]
    },
    {
     "name": "stdout",
     "output_type": "stream",
     "text": [
      "The character present at 0 index: a\n",
      "The character present at 1 index: m\n",
      "The character present at 2 index: a\n",
      "The character present at 3 index: n\n",
      "The character present at 4 index: a\n",
      "The character present at 5 index: b\n",
      "The character present at 6 index: h\n",
      "The character present at 7 index: i\n",
      "The character present at 8 index: p\n",
      "The character present at 9 index: a\n",
      "The character present at 10 index: n\n",
      "The character present at 11 index: k\n",
      "The character present at 12 index: a\n",
      "The character present at 13 index: j\n"
     ]
    }
   ],
   "source": [
    "s = input('Enter Any String: ')\n",
    "index = 0\n",
    "for x in s:\n",
    "    print('The character present at', index, 'index:', x)\n",
    "    index = index + 1"
   ]
  },
  {
   "cell_type": "code",
   "execution_count": 111,
   "id": "491251f6-2bad-4bf4-aeaf-944b483b918c",
   "metadata": {},
   "outputs": [
    {
     "name": "stdout",
     "output_type": "stream",
     "text": [
      "n\n"
     ]
    }
   ],
   "source": [
    "s = 'aman'\n",
    "print(s[3])"
   ]
  },
  {
   "cell_type": "code",
   "execution_count": 120,
   "id": "69b237cc-94bb-47de-8245-a846aef5c626",
   "metadata": {},
   "outputs": [
    {
     "name": "stdout",
     "output_type": "stream",
     "text": [
      "Enter Any String:  aman\n"
     ]
    },
    {
     "name": "stdout",
     "output_type": "stream",
     "text": [
      "The character present at 0 index: a\n",
      "The character present at 1 index: m\n",
      "The character present at 2 index: a\n",
      "The character present at 3 index: n\n"
     ]
    }
   ],
   "source": [
    "s = input('Enter Any String: ')\n",
    "index_1 = 0\n",
    "\n",
    "for x in s:\n",
    "    print('The character present at', index_1, 'index:', x)\n",
    "    index_1 = index_1 +1"
   ]
  },
  {
   "cell_type": "code",
   "execution_count": 121,
   "id": "471b35e6-90d1-4495-a995-eb8093850a9a",
   "metadata": {},
   "outputs": [
    {
     "name": "stdout",
     "output_type": "stream",
     "text": [
      "1 Hello\n",
      "2 Hello\n",
      "3 Hello\n",
      "4 Hello\n",
      "5 Hello\n",
      "6 Hello\n",
      "7 Hello\n",
      "8 Hello\n",
      "9 Hello\n",
      "10 Hello\n"
     ]
    }
   ],
   "source": [
    "for x in range(1, 11):\n",
    "    print(x, 'Hello')\n"
   ]
  },
  {
   "cell_type": "code",
   "execution_count": 122,
   "id": "e2646784-2de8-4926-accb-5b2d710e0a66",
   "metadata": {},
   "outputs": [
    {
     "name": "stdout",
     "output_type": "stream",
     "text": [
      "1\n",
      "3\n",
      "5\n",
      "7\n",
      "9\n",
      "11\n",
      "13\n",
      "15\n",
      "17\n",
      "19\n"
     ]
    }
   ],
   "source": [
    "for x in range(21):  # odd numbers \n",
    "    if x % 2 != 0:\n",
    "        print(x)\n"
   ]
  },
  {
   "cell_type": "code",
   "execution_count": null,
   "id": "aea89137-bf40-4335-b7c6-b6c4224f47f0",
   "metadata": {},
   "outputs": [],
   "source": [
    "for x in range(1, 21, 2):\n",
    "    print(x)"
   ]
  },
  {
   "cell_type": "code",
   "execution_count": 123,
   "id": "172e9c27-eaea-4246-9bc6-a8ed7d19d977",
   "metadata": {},
   "outputs": [
    {
     "name": "stdout",
     "output_type": "stream",
     "text": [
      "0\n",
      "2\n",
      "4\n",
      "6\n",
      "8\n",
      "10\n",
      "12\n",
      "14\n",
      "16\n",
      "18\n",
      "20\n"
     ]
    }
   ],
   "source": [
    "for x in range(21):  # odd numbers \n",
    "    if x % 2 == 0:\n",
    "        print(x)"
   ]
  },
  {
   "cell_type": "code",
   "execution_count": 124,
   "id": "66160fea-f79b-4fbd-9513-e0d70bd80bef",
   "metadata": {},
   "outputs": [
    {
     "name": "stdout",
     "output_type": "stream",
     "text": [
      "1\n",
      "3\n",
      "5\n",
      "7\n",
      "9\n",
      "11\n",
      "13\n",
      "15\n",
      "17\n",
      "19\n"
     ]
    }
   ],
   "source": [
    "for x in range(1, 21, 2):\n",
    "    print(x)"
   ]
  },
  {
   "cell_type": "code",
   "execution_count": 135,
   "id": "1cc9fe59-e178-46b6-88c2-51124f38fb7c",
   "metadata": {},
   "outputs": [
    {
     "name": "stdout",
     "output_type": "stream",
     "text": [
      "Enter List:  ['a1','b1']\n"
     ]
    },
    {
     "ename": "TypeError",
     "evalue": "unsupported operand type(s) for +: 'int' and 'str'",
     "output_type": "error",
     "traceback": [
      "\u001b[1;31m---------------------------------------------------------------------------\u001b[0m",
      "\u001b[1;31mTypeError\u001b[0m                                 Traceback (most recent call last)",
      "Cell \u001b[1;32mIn[135], line 5\u001b[0m\n\u001b[0;32m      2\u001b[0m \u001b[38;5;28msum\u001b[39m \u001b[38;5;241m=\u001b[39m \u001b[38;5;241m0\u001b[39m\n\u001b[0;32m      4\u001b[0m \u001b[38;5;28;01mfor\u001b[39;00m x \u001b[38;5;129;01min\u001b[39;00m l:\n\u001b[1;32m----> 5\u001b[0m     \u001b[38;5;28msum\u001b[39m \u001b[38;5;241m=\u001b[39m \u001b[38;5;28;43msum\u001b[39;49m\u001b[43m \u001b[49m\u001b[38;5;241;43m+\u001b[39;49m\u001b[43m \u001b[49m\u001b[43mx\u001b[49m\n\u001b[0;32m      6\u001b[0m \u001b[38;5;28mprint\u001b[39m(\u001b[38;5;124m'\u001b[39m\u001b[38;5;124mThe Sum:\u001b[39m\u001b[38;5;124m'\u001b[39m, \u001b[38;5;28msum\u001b[39m)\n",
      "\u001b[1;31mTypeError\u001b[0m: unsupported operand type(s) for +: 'int' and 'str'"
     ]
    }
   ],
   "source": [
    "l = eval(input('Enter List: '))  # [10,20,30,40]\n",
    "sum = 0\n",
    "\n",
    "for x in l:\n",
    "    sum = sum + x\n",
    "print('The Sum:', sum)"
   ]
  },
  {
   "cell_type": "code",
   "execution_count": null,
   "id": "b8898414-48d8-4a51-a779-bcdbdccbae75",
   "metadata": {},
   "outputs": [],
   "source": [
    "[ 10 20 30]\n",
    "[10,20,30]\n",
    "# Enter List: ['a', 'b','c']\n",
    "# The Sum: abc\n",
    "# Enter List: ['a', 'b','c']\n",
    "# The Sum: ['a', 'b', 'c']"
   ]
  },
  {
   "cell_type": "code",
   "execution_count": 137,
   "id": "f7c8fe33-7e50-48d7-8d46-414ea869d292",
   "metadata": {},
   "outputs": [
    {
     "name": "stdout",
     "output_type": "stream",
     "text": [
      "1\n",
      "2\n",
      "3\n",
      "4\n",
      "5\n",
      "6\n",
      "7\n",
      "8\n",
      "9\n"
     ]
    }
   ],
   "source": [
    "x = 1\n",
    "while x <= 10:\n",
    "    print(x)\n",
    "    x = x + 1"
   ]
  },
  {
   "cell_type": "code",
   "execution_count": 138,
   "id": "ad59c191-4997-4d01-85e8-595089df9115",
   "metadata": {},
   "outputs": [
    {
     "name": "stdout",
     "output_type": "stream",
     "text": [
      "1\n",
      "2\n",
      "3\n",
      "4\n",
      "5\n",
      "6\n",
      "7\n",
      "8\n",
      "9\n",
      "10\n"
     ]
    }
   ],
   "source": [
    "for i in range(1, 11):\n",
    "    print(i)"
   ]
  },
  {
   "cell_type": "code",
   "execution_count": null,
   "id": "0a4896cc-2906-452e-a353-101a6adbf88d",
   "metadata": {},
   "outputs": [],
   "source": [
    "n = int(input('Enter n value: '))\n",
    "sum = 0\n",
    "i = 1\n",
    "while i <= n:\n",
    "    sum = sum + i\n",
    "    i = i + 1\n",
    "print('The sum of first {} numbers: {}'.format(n, sum))\n"
   ]
  },
  {
   "cell_type": "code",
   "execution_count": 147,
   "id": "0b25407c-3a9c-4bf2-86bd-98faca99a579",
   "metadata": {},
   "outputs": [
    {
     "name": "stdout",
     "output_type": "stream",
     "text": [
      "Enter n value:  5\n"
     ]
    },
    {
     "name": "stdout",
     "output_type": "stream",
     "text": [
      "The sum of first 5 numbers: 15\n"
     ]
    }
   ],
   "source": [
    "n = int(input('Enter n value: '))\n",
    "sum = 0\n",
    "i = 1\n",
    "while i <= n:\n",
    "    #print(i)\n",
    "    sum = sum + i\n",
    "    i = i + 1\n",
    "print(f\"The sum of first {n} numbers: {sum}\")"
   ]
  },
  {
   "cell_type": "code",
   "execution_count": 146,
   "id": "da558ee2-2a60-404a-ac2b-38557be67166",
   "metadata": {},
   "outputs": [
    {
     "name": "stdout",
     "output_type": "stream",
     "text": [
      "Enter n value:  5\n"
     ]
    },
    {
     "name": "stdout",
     "output_type": "stream",
     "text": [
      "15\n"
     ]
    }
   ],
   "source": [
    "n = int(input('Enter n value: '))\n",
    "sum = 0\n",
    "for x in range(1, n + 1):\n",
    "    sum = sum + x\n",
    "print(sum)\n"
   ]
  },
  {
   "cell_type": "code",
   "execution_count": 148,
   "id": "75747d04-22a3-4a39-a399-73f9d6fb44cc",
   "metadata": {},
   "outputs": [
    {
     "name": "stdout",
     "output_type": "stream",
     "text": [
      "Enter Your Favourite Heroine:  iron man\n",
      "Enter Your Favourite Heroine:  srk\n",
      "Enter Your Favourite Heroine:  sunny\n"
     ]
    },
    {
     "name": "stdout",
     "output_type": "stream",
     "text": [
      "Thanks for confirmation\n"
     ]
    }
   ],
   "source": [
    "name = ''\n",
    "while name != 'sunny':\n",
    "    name = input('Enter Your Favourite Heroine: ')\n",
    "print('Thanks for confirmation')"
   ]
  },
  {
   "cell_type": "code",
   "execution_count": null,
   "id": "c18b7866-d6ef-4903-b433-98a6e8d0ee09",
   "metadata": {},
   "outputs": [],
   "source": [
    "name = ''\n",
    "i = 0\n",
    "while name != 'aman':\n",
    "    name = input('Enter Your Favourite Heroine: ')\n",
    "    i = i + 1\n",
    "    if i == 10:\n",
    "        print(\"Your Maximum attempts completed\")\n",
    "        break"
   ]
  },
  {
   "cell_type": "code",
   "execution_count": 150,
   "id": "6d9b4002-5e6f-4a43-b66f-ad552d1b4298",
   "metadata": {},
   "outputs": [
    {
     "name": "stdout",
     "output_type": "stream",
     "text": [
      "Enter Your Favourite Heroine:  aaa\n",
      "Enter Your Favourite Heroine:  www\n",
      "Enter Your Favourite Heroine:  eee\n",
      "Enter Your Favourite Heroine:  rrr\n",
      "Enter Your Favourite Heroine:  ttt\n",
      "Enter Your Favourite Heroine:  qq\n",
      "Enter Your Favourite Heroine:  ww\n",
      "Enter Your Favourite Heroine:  eee\n",
      "Enter Your Favourite Heroine:  rrr\n",
      "Enter Your Favourite Heroine:  rrr\n"
     ]
    },
    {
     "name": "stdout",
     "output_type": "stream",
     "text": [
      "Your Maximum attempts completed\n"
     ]
    }
   ],
   "source": [
    "name = ''\n",
    "i = 0\n",
    "while name != 'sunny':\n",
    "    name = input('Enter Your Favourite Heroine: ')\n",
    "    i = i + 1\n",
    "    if i == 10:\n",
    "        print(\"Your Maximum attempts completed\")\n",
    "        break"
   ]
  },
  {
   "cell_type": "code",
   "execution_count": 153,
   "id": "67e09d0b-942f-422c-a79f-de4059485509",
   "metadata": {},
   "outputs": [
    {
     "name": "stdout",
     "output_type": "stream",
     "text": [
      "Enter User Name:  a\n",
      "Enter Password:  a\n"
     ]
    },
    {
     "name": "stdout",
     "output_type": "stream",
     "text": [
      "Your credentials are invalid, please provide again\n"
     ]
    },
    {
     "name": "stdout",
     "output_type": "stream",
     "text": [
      "Enter User Name:  a\n",
      "Enter Password:  a\n"
     ]
    },
    {
     "name": "stdout",
     "output_type": "stream",
     "text": [
      "Your credentials are invalid, please provide again\n"
     ]
    },
    {
     "name": "stdout",
     "output_type": "stream",
     "text": [
      "Enter User Name:  a\n",
      "Enter Password:  a\n"
     ]
    },
    {
     "name": "stdout",
     "output_type": "stream",
     "text": [
      "Your credentials are invalid, please provide again\n"
     ]
    },
    {
     "name": "stdout",
     "output_type": "stream",
     "text": [
      "Enter User Name:  a\n",
      "Enter Password:  a\n"
     ]
    },
    {
     "name": "stdout",
     "output_type": "stream",
     "text": [
      "Your credentials are invalid, please provide again\n"
     ]
    },
    {
     "name": "stdout",
     "output_type": "stream",
     "text": [
      "Enter User Name:  a\n",
      "Enter Password:  a\n"
     ]
    },
    {
     "name": "stdout",
     "output_type": "stream",
     "text": [
      "Your credentials are invalid, please provide again\n"
     ]
    },
    {
     "name": "stdout",
     "output_type": "stream",
     "text": [
      "Enter User Name:  a\n",
      "Enter Password:  a\n"
     ]
    },
    {
     "name": "stdout",
     "output_type": "stream",
     "text": [
      "Your credentials are invalid, please provide again\n"
     ]
    },
    {
     "name": "stdout",
     "output_type": "stream",
     "text": [
      "Enter User Name:  a\n",
      "Enter Password:  a\n"
     ]
    },
    {
     "name": "stdout",
     "output_type": "stream",
     "text": [
      "Your credentials are invalid, please provide again\n"
     ]
    },
    {
     "name": "stdout",
     "output_type": "stream",
     "text": [
      "Enter User Name:  a\n",
      "Enter Password:  a\n"
     ]
    },
    {
     "name": "stdout",
     "output_type": "stream",
     "text": [
      "Your credentials are invalid, please provide again\n"
     ]
    },
    {
     "name": "stdout",
     "output_type": "stream",
     "text": [
      "Enter User Name:  a\n",
      "Enter Password:  a\n"
     ]
    },
    {
     "name": "stdout",
     "output_type": "stream",
     "text": [
      "Your credentials are invalid, please provide again\n"
     ]
    },
    {
     "name": "stdout",
     "output_type": "stream",
     "text": [
      "Enter User Name:  a\n",
      "Enter Password:  a\n"
     ]
    },
    {
     "name": "stdout",
     "output_type": "stream",
     "text": [
      "Your credentials are invalid, please provide again\n"
     ]
    },
    {
     "name": "stdout",
     "output_type": "stream",
     "text": [
      "Enter User Name:  a\n",
      "Enter Password:  a\n"
     ]
    },
    {
     "name": "stdout",
     "output_type": "stream",
     "text": [
      "Your credentials are invalid, please provide again\n"
     ]
    },
    {
     "name": "stdout",
     "output_type": "stream",
     "text": [
      "Enter User Name:  a\n",
      "Enter Password:  a\n"
     ]
    },
    {
     "name": "stdout",
     "output_type": "stream",
     "text": [
      "Your credentials are invalid, please provide again\n"
     ]
    },
    {
     "name": "stdout",
     "output_type": "stream",
     "text": [
      "Enter User Name:  a\n",
      "Enter Password:  a\n"
     ]
    },
    {
     "name": "stdout",
     "output_type": "stream",
     "text": [
      "Your credentials are invalid, please provide again\n"
     ]
    },
    {
     "name": "stdout",
     "output_type": "stream",
     "text": [
      "Enter User Name:  a\n",
      "Enter Password:  a\n"
     ]
    },
    {
     "name": "stdout",
     "output_type": "stream",
     "text": [
      "Your credentials are invalid, please provide again\n"
     ]
    },
    {
     "name": "stdout",
     "output_type": "stream",
     "text": [
      "Enter User Name:  a\n",
      "Enter Password:  a\n"
     ]
    },
    {
     "name": "stdout",
     "output_type": "stream",
     "text": [
      "Your credentials are invalid, please provide again\n"
     ]
    },
    {
     "name": "stdout",
     "output_type": "stream",
     "text": [
      "Enter User Name:  durga\n",
      "Enter Password:  sunny\n"
     ]
    },
    {
     "name": "stdout",
     "output_type": "stream",
     "text": [
      "You are valid user, you can avail services\n"
     ]
    }
   ],
   "source": [
    "while True:\n",
    "    username = input('Enter User Name: ')\n",
    "    pwd = input('Enter Password: ')\n",
    "    if username == 'durga' and pwd == 'sunny':\n",
    "        print('You are valid user, you can avail services')\n",
    "        break\n",
    "    else:\n",
    "        print('Your credentials are invalid, please provide again')"
   ]
  },
  {
   "cell_type": "code",
   "execution_count": 155,
   "id": "ad641c0b-8121-4182-8f20-41d10d558cba",
   "metadata": {},
   "outputs": [
    {
     "name": "stdout",
     "output_type": "stream",
     "text": [
      "0\n",
      "1\n",
      "2\n",
      "3\n",
      "4\n",
      "5\n",
      "6\n"
     ]
    }
   ],
   "source": [
    "for i in range(10):\n",
    "    if i == 7:\n",
    "        break\n",
    "    print(i)\n",
    "#print('Loop execution enough...plz break')\n"
   ]
  },
  {
   "cell_type": "code",
   "execution_count": 159,
   "id": "38e51e3a-2415-4f1f-a280-57b42991b9d2",
   "metadata": {},
   "outputs": [
    {
     "name": "stdout",
     "output_type": "stream",
     "text": [
      "10\n",
      "20\n",
      "60\n",
      "70\n",
      "To place this order, insurance must be required\n"
     ]
    }
   ],
   "source": [
    "cart = [10, 20, 600, 60, 70]\n",
    "for item in cart:\n",
    "    if item > 500:\n",
    "        continue\n",
    "    print(item)\n",
    "print('To place this order, insurance must be required')"
   ]
  },
  {
   "cell_type": "code",
   "execution_count": 160,
   "id": "14e5a7de-ca1e-4402-ad98-6f71a6cea997",
   "metadata": {},
   "outputs": [
    {
     "name": "stdout",
     "output_type": "stream",
     "text": [
      "1\n",
      "3\n",
      "5\n",
      "7\n",
      "9\n"
     ]
    }
   ],
   "source": [
    "for i in range(10):\n",
    "    if i % 2 == 0:\n",
    "        continue\n",
    "    print(i)\n"
   ]
  },
  {
   "cell_type": "code",
   "execution_count": 166,
   "id": "7edf280b-bb4e-4a0e-9703-33606b252f3d",
   "metadata": {},
   "outputs": [
    {
     "name": "stdout",
     "output_type": "stream",
     "text": [
      "Processing Item: 10\n",
      "We cannot process this item because of insurance issue: 10\n",
      "Processing Item: 20\n",
      "We cannot process this item because of insurance issue: 20\n",
      "Processing Item: 50\n",
      "We cannot process this item because of insurance issue: 50\n",
      "Processing Item: 60\n",
      "We cannot process this item because of insurance issue: 60\n"
     ]
    }
   ],
   "source": [
    "cart = [10, 20, 500, 700, 50, 60]\n",
    "for item in cart:\n",
    "    if item >= 500:\n",
    "        continue\n",
    "    print('Processing Item:', item)\n",
    "    print('We cannot process this item because of insurance issue:', item)"
   ]
  },
  {
   "cell_type": "code",
   "execution_count": 167,
   "id": "0681b2eb-e692-4fcf-bc54-499c559aeb82",
   "metadata": {},
   "outputs": [
    {
     "name": "stdout",
     "output_type": "stream",
     "text": [
      "Processing Item: 10\n",
      "We cannot process this item because of insurance issue: 10\n",
      "Processing Item: 20\n",
      "We cannot process this item because of insurance issue: 20\n"
     ]
    }
   ],
   "source": [
    "cart = [10, 20, 500, 700, 50, 60]\n",
    "for item in cart:\n",
    "    if item >= 500:\n",
    "        break\n",
    "    print('Processing Item:', item)\n",
    "    print('We cannot process this item because of insurance issue:', item)"
   ]
  },
  {
   "cell_type": "code",
   "execution_count": null,
   "id": "d1338024-0662-43e7-bbb0-97753f5f617b",
   "metadata": {},
   "outputs": [],
   "source": [
    "# Q1. What is the difference between for loop and while loop???\n",
    "# Repeat code for every item in the sequence ---> for loop\n",
    "# Repeat code as long as some condition is True ---> while loop\n",
    "# Q2. How to exit from the loop?\n",
    "# break statement\n",
    "# Q3. How to skip some iterations inside loop?\n",
    "# continue statement\n",
    "# Q4. When else part will be executed for loops?\n",
    "# if the loop without break then only else will be executed."
   ]
  },
  {
   "cell_type": "code",
   "execution_count": 173,
   "id": "3e0e8709-5a87-40f3-ac80-c808bc98054a",
   "metadata": {},
   "outputs": [],
   "source": [
    "if 10 > 20:\n",
    "    print('Hello')\n",
    "else:\n",
    "    pass"
   ]
  },
  {
   "cell_type": "code",
   "execution_count": 178,
   "id": "7f34f1f1-ca9a-47d6-bcb3-323b39088d54",
   "metadata": {},
   "outputs": [
    {
     "name": "stdout",
     "output_type": "stream",
     "text": [
      "Updating item implementation\n",
      "None\n"
     ]
    }
   ],
   "source": [
    "def additem():\n",
    "    pass\n",
    "def deleteitem():\n",
    "    pass\n",
    "def updateitem():\n",
    "    print('Updating item implementation')\n",
    "\n",
    "\n",
    "s=updateitem()\n",
    "print(s)"
   ]
  },
  {
   "cell_type": "code",
   "execution_count": 180,
   "id": "19f62ac5-ee61-4442-abbd-89c470df3561",
   "metadata": {},
   "outputs": [
    {
     "ename": "NameError",
     "evalue": "name 'x' is not defined",
     "output_type": "error",
     "traceback": [
      "\u001b[1;31m---------------------------------------------------------------------------\u001b[0m",
      "\u001b[1;31mNameError\u001b[0m                                 Traceback (most recent call last)",
      "Cell \u001b[1;32mIn[180], line 3\u001b[0m\n\u001b[0;32m      1\u001b[0m x \u001b[38;5;241m=\u001b[39m \u001b[38;5;241m10\u001b[39m\n\u001b[0;32m      2\u001b[0m \u001b[38;5;28;01mdel\u001b[39;00m x\n\u001b[1;32m----> 3\u001b[0m \u001b[38;5;28mprint\u001b[39m(\u001b[43mx\u001b[49m)\n",
      "\u001b[1;31mNameError\u001b[0m: name 'x' is not defined"
     ]
    }
   ],
   "source": [
    "x = 10\n",
    "del x\n",
    "print(x)"
   ]
  },
  {
   "cell_type": "code",
   "execution_count": 181,
   "id": "54a1ce6d-078b-4caa-ad9a-1c1afb407ba7",
   "metadata": {},
   "outputs": [
    {
     "name": "stdout",
     "output_type": "stream",
     "text": [
      "durga\n",
      "durga\n"
     ]
    }
   ],
   "source": [
    "s1 = 'durga'\n",
    "s2 = s1\n",
    "s3 = s1\n",
    "del s1\n",
    "print(s2)\n",
    "print(s3)"
   ]
  },
  {
   "cell_type": "code",
   "execution_count": 182,
   "id": "def94f28-2368-46b9-a0e6-36691e7fbe6e",
   "metadata": {},
   "outputs": [
    {
     "name": "stdout",
     "output_type": "stream",
     "text": [
      "None\n"
     ]
    }
   ],
   "source": [
    "s1 = 'durga'\n",
    "del s1\n",
    "# print(s1)  # NameError: name 's1' is not defined\n",
    "s1 = 'durga'\n",
    "s1 = None\n",
    "print(s1)"
   ]
  },
  {
   "cell_type": "code",
   "execution_count": 183,
   "id": "da5ab090-a2f4-4936-b48d-c96df64d4bc4",
   "metadata": {},
   "outputs": [
    {
     "name": "stdout",
     "output_type": "stream",
     "text": [
      "None\n"
     ]
    }
   ],
   "source": [
    "s1 = 'durga'\n",
    "s1 = None\n",
    "print(s1)"
   ]
  },
  {
   "cell_type": "code",
   "execution_count": 184,
   "id": "e11c96ec-aeeb-419f-9eb9-e6eab279ae78",
   "metadata": {},
   "outputs": [
    {
     "ename": "TypeError",
     "evalue": "'str' object doesn't support item deletion",
     "output_type": "error",
     "traceback": [
      "\u001b[1;31m---------------------------------------------------------------------------\u001b[0m",
      "\u001b[1;31mTypeError\u001b[0m                                 Traceback (most recent call last)",
      "Cell \u001b[1;32mIn[184], line 2\u001b[0m\n\u001b[0;32m      1\u001b[0m s1 \u001b[38;5;241m=\u001b[39m \u001b[38;5;124m'\u001b[39m\u001b[38;5;124mdurga\u001b[39m\u001b[38;5;124m'\u001b[39m\n\u001b[1;32m----> 2\u001b[0m \u001b[38;5;28;01mdel\u001b[39;00m \u001b[43ms1\u001b[49m\u001b[43m[\u001b[49m\u001b[38;5;241;43m0\u001b[39;49m\u001b[43m]\u001b[49m  \u001b[38;5;66;03m# TypeError: 'str' object doesn't support item deletion\u001b[39;00m\n",
      "\u001b[1;31mTypeError\u001b[0m: 'str' object doesn't support item deletion"
     ]
    }
   ],
   "source": [
    "s1 = 'durga'\n",
    "del s1[0]  # TypeError: 'str' object doesn't support item deletion"
   ]
  },
  {
   "cell_type": "code",
   "execution_count": null,
   "id": "59e37c4d-a083-4f11-80be-fdfb91e562eb",
   "metadata": {},
   "outputs": [],
   "source": [
    "# pass ===> empty statement\n",
    "# del ===> to delete variables which are no longer required in our program\n",
    "# automatically the corresponding objects eligible for gc.\n",
    "# if useless objects deleted, free memory will be improved.\n",
    "# our program won't face memory issues."
   ]
  },
  {
   "cell_type": "code",
   "execution_count": 189,
   "id": "0312770c-46bc-46e7-9cb1-31c3c5c1c03d",
   "metadata": {},
   "outputs": [
    {
     "name": "stdout",
     "output_type": "stream",
     "text": [
      "The classes of \"Python' By \"Durga Sir\" are Good\n"
     ]
    }
   ],
   "source": [
    "#s = 'The classes of \\\"Python\\' By \"Durga Sir\" are Good'\n",
    "s = '''The classes of \"Python' By \"Durga Sir\" are Good'''\n",
    "print(s)"
   ]
  },
  {
   "cell_type": "code",
   "execution_count": null,
   "id": "387eb8c9-dd5d-4681-84e5-50a64333006d",
   "metadata": {},
   "outputs": [],
   "source": [
    "# 1. To define multiline string literals\n",
    "# 2. To use single or double quotes as symbol only\n",
    "# 3. Doc string"
   ]
  },
  {
   "cell_type": "code",
   "execution_count": null,
   "id": "65ad83a9-9fc5-4985-bf00-4c098f90e4b7",
   "metadata": {},
   "outputs": [],
   "source": [
    "# How to access characters of the string:\n",
    "# 2 ways\n",
    "# 1. By using index\n",
    "# 2. By using Slice Operator"
   ]
  },
  {
   "cell_type": "code",
   "execution_count": 191,
   "id": "e8bb9647-0d22-4faa-809e-7901da3fa173",
   "metadata": {},
   "outputs": [
    {
     "name": "stdout",
     "output_type": "stream",
     "text": [
      "Enter Any String:  aman\n"
     ]
    },
    {
     "name": "stdout",
     "output_type": "stream",
     "text": [
      "The Character Present at Positive Index 0 is : a\n",
      "The Character Present at Positive Index 1 is : m\n",
      "The Character Present at Positive Index 2 is : a\n",
      "The Character Present at Positive Index 3 is : n\n"
     ]
    }
   ],
   "source": [
    "s = input('Enter Any String: ')\n",
    "i = 0\n",
    "for x in s:\n",
    "    print('The Character Present at Positive Index {} is : {}'.format(i, x))\n",
    "    i = i + 1\n",
    "\n"
   ]
  },
  {
   "cell_type": "code",
   "execution_count": 195,
   "id": "2cea583e-f176-40e6-a975-ee7b364cac2b",
   "metadata": {},
   "outputs": [
    {
     "name": "stdout",
     "output_type": "stream",
     "text": [
      "Enter Any String:  AMAN\n"
     ]
    },
    {
     "name": "stdout",
     "output_type": "stream",
     "text": [
      "The Character Present at Positive Index 0 and at Negative Index -4 is : A\n",
      "The Character Present at Positive Index 1 and at Negative Index -3 is : M\n",
      "The Character Present at Positive Index 2 and at Negative Index -2 is : A\n",
      "The Character Present at Positive Index 3 and at Negative Index -1 is : N\n"
     ]
    }
   ],
   "source": [
    "s = input('Enter Any String: ')\n",
    "i = 0\n",
    "for x in s:\n",
    "    #print('The Character Present at Positive Index {} and at Negative Index {} is : {}'.format(i - len(s),i, x))\n",
    "    print(f\"The Character Present at Positive Index {i} and at Negative Index {i - len(s)} is : {x}\")\n",
    "    i = i + 1"
   ]
  },
  {
   "cell_type": "code",
   "execution_count": null,
   "id": "7a45413c-9f8e-43df-9de9-2f3ee895c19e",
   "metadata": {},
   "outputs": [],
   "source": [
    "name = \"Aman\"\n",
    "age = 28\n",
    "print(f\"Hi {name},what is your age ,is it {age}?\") "
   ]
  },
  {
   "cell_type": "code",
   "execution_count": 196,
   "id": "dbbebc49-1d88-4f53-bdf7-7d47fa201dbb",
   "metadata": {},
   "outputs": [
    {
     "name": "stdout",
     "output_type": "stream",
     "text": [
      "earn\n"
     ]
    }
   ],
   "source": [
    "s = 'Learning Python is very easy'\n",
    "print(s[1:5])\n"
   ]
  },
  {
   "cell_type": "code",
   "execution_count": 198,
   "id": "e774da91-bc6a-4966-8aab-e7f31978810d",
   "metadata": {},
   "outputs": [
    {
     "name": "stdout",
     "output_type": "stream",
     "text": [
      "beh\n"
     ]
    }
   ],
   "source": [
    "s = 'abcdefghijk'\n",
    "\n",
    "#print(s[1:5:1])\n",
    "print(s[1:10:3])"
   ]
  },
  {
   "cell_type": "code",
   "execution_count": null,
   "id": "d11c6a9c-6dd0-4011-8d75-1dd679868c62",
   "metadata": {},
   "outputs": [],
   "source": [
    "# 2. By using Slice Operator:\n",
    "# [begin_index:end_index:step]\n",
    "# [begin:end:step]\n",
    "# [begin:end]\n",
    "# from begin index to end-1 index\n",
    "# for begin and end we can take either positive index or negative index."
   ]
  },
  {
   "cell_type": "code",
   "execution_count": 201,
   "id": "8c048491-4859-4ba8-b589-599652a93105",
   "metadata": {},
   "outputs": [
    {
     "name": "stdout",
     "output_type": "stream",
     "text": [
      "bcdefghijk\n"
     ]
    }
   ],
   "source": [
    "s = 'abcdefghijk'\n",
    "\n",
    "print(s[1:10000:1])\n",
    "#print(s[10000])"
   ]
  },
  {
   "cell_type": "code",
   "execution_count": 202,
   "id": "70c19d84-a9d5-4d32-a9e7-7a33515fa054",
   "metadata": {},
   "outputs": [
    {
     "name": "stdout",
     "output_type": "stream",
     "text": [
      "\n"
     ]
    }
   ],
   "source": [
    "print(s[11000:1000:1])"
   ]
  },
  {
   "cell_type": "code",
   "execution_count": null,
   "id": "9e149a28-cdc7-4019-99c4-4702ffae7a93",
   "metadata": {},
   "outputs": [],
   "source": [
    "# [begin:end]\n",
    "# from begin index to end-1 index\n",
    "# for begin and end we can take either positive index or negative index\n",
    "# step value can be either positive or negative.\n",
    "# The default step value is: +1\n",
    "# +ve step value means forward direction (left to right)\n",
    "# from begin to end-1\n",
    "# -ve step value means backward direction (right to left)\n",
    "# from begin to end+1\n"
   ]
  },
  {
   "cell_type": "code",
   "execution_count": 217,
   "id": "d0c27046-38c4-4f2c-a043-cf1351676693",
   "metadata": {
    "scrolled": true
   },
   "outputs": [
    {
     "data": {
      "text/plain": [
       "'abcdefghijkl'"
      ]
     },
     "execution_count": 217,
     "metadata": {},
     "output_type": "execute_result"
    }
   ],
   "source": [
    "s = 'abcdefghijkl'\n",
    "\n",
    "s[::1]\n",
    "#len(s)"
   ]
  },
  {
   "cell_type": "code",
   "execution_count": null,
   "id": "c8c4fdb3-d0e2-403e-b37e-a96ccfc18e2d",
   "metadata": {},
   "outputs": [],
   "source": [
    "# In Forward Direction:\n",
    "# default begin value: 0\n",
    "# default end value: len(s)\n",
    "# default step value: 1\n",
    "\n",
    "# In Backward Direction:\n",
    "# default begin value: -1\n",
    "# default end value: -len(s)-1"
   ]
  },
  {
   "cell_type": "code",
   "execution_count": 219,
   "id": "d21c3eca-65d4-4800-aa71-fa0692ea5d2e",
   "metadata": {},
   "outputs": [
    {
     "name": "stdout",
     "output_type": "stream",
     "text": [
      "lkjihgfedc\n"
     ]
    }
   ],
   "source": [
    "s = 'abcdefghijkl'\n",
    "print(s[-1:-11:-1])"
   ]
  },
  {
   "cell_type": "code",
   "execution_count": null,
   "id": "a3799c78-8b90-4a85-a23f-db1bb40fa408",
   "metadata": {},
   "outputs": [],
   "source": [
    "print(s[::-1])  # zyxwvutsrqponmlkjihgfedcba\n",
    "print(s[-1:-27:-1])  # zyxwvutsrqponmlkjihgfedcba\n",
    "# default begin: -1"
   ]
  },
  {
   "cell_type": "code",
   "execution_count": null,
   "id": "56271391-2c00-4af3-9356-a7da28ca6de6",
   "metadata": {},
   "outputs": [],
   "source": [
    "# In the forward direction if end value is 0 then result is always empty.\n",
    "# In the backward direction if end value is -1 then result is always empty."
   ]
  },
  {
   "cell_type": "code",
   "execution_count": 220,
   "id": "f4d9a0a0-741c-47de-becf-ff08b8f54bc7",
   "metadata": {},
   "outputs": [
    {
     "name": "stdout",
     "output_type": "stream",
     "text": [
      "\n"
     ]
    }
   ],
   "source": [
    "s = 'abcdefghijkl'\n",
    "print(s[10:0:1])"
   ]
  },
  {
   "cell_type": "code",
   "execution_count": 223,
   "id": "148dfe3a-1fce-42d2-9448-d707ee8e6dba",
   "metadata": {},
   "outputs": [
    {
     "name": "stdout",
     "output_type": "stream",
     "text": [
      "\n"
     ]
    }
   ],
   "source": [
    "s = 'abcdefghijkl'\n",
    "print(s[-100000000000000000000000:-1:-1])"
   ]
  },
  {
   "cell_type": "code",
   "execution_count": null,
   "id": "34bd3006-cdf9-4d38-b933-05ee4fbb35a9",
   "metadata": {},
   "outputs": [],
   "source": [
    "# >>> s[1:6:2]\n",
    "# 'bdf'\n",
    "# >>> s[::1]\n",
    "# 'abcdefghij'\n",
    "# >>> s[::-1]\n",
    "# 'jihgfedcba'\n",
    "# >>> s[3:7:-1]  # empty string\n"
   ]
  },
  {
   "cell_type": "code",
   "execution_count": 224,
   "id": "9f7a6a1a-b0bd-40af-a40b-c50985c7b35f",
   "metadata": {},
   "outputs": [
    {
     "name": "stdout",
     "output_type": "stream",
     "text": [
      "\n"
     ]
    }
   ],
   "source": [
    "s = 'abcdefghijkl'\n",
    "print(s[3:7:-1])"
   ]
  },
  {
   "cell_type": "code",
   "execution_count": 235,
   "id": "8836ba1d-c449-4e1d-be34-da644402a171",
   "metadata": {},
   "outputs": [
    {
     "data": {
      "text/plain": [
       "'ihgfedc'"
      ]
     },
     "execution_count": 235,
     "metadata": {},
     "output_type": "execute_result"
    }
   ],
   "source": [
    "s = 'abcdefghijkl'\n",
    "s[1:6:2] #---> 'bdf'\n",
    "s[::1] #---> 'abcdefghij'\n",
    "s[::-1] #---> 'jihgfedcba'\n",
    "s[3:7:-1] #---> '' (empty)\n",
    "s[7:4:-1] #---> 'hgf'\n",
    "s[0:10000:1] #---> 'abcdefghij'\n",
    "s[0:10000:-1] #---> '' (empty)\n",
    "# from 0 to 10000\n",
    "s[-4:1:-1] #---> 'gfedc'"
   ]
  },
  {
   "cell_type": "code",
   "execution_count": 238,
   "id": "64222d34-d4fa-4e6c-85c8-f55a5e596f80",
   "metadata": {},
   "outputs": [
    {
     "name": "stdout",
     "output_type": "stream",
     "text": [
      "Enter Any String:  aman\n"
     ]
    },
    {
     "name": "stdout",
     "output_type": "stream",
     "text": [
      "In Forward Direction:\n",
      "a\n",
      "m\n",
      "a\n",
      "n\n",
      "In Backward Direction:\n",
      "n\n",
      "a\n",
      "m\n",
      "a\n"
     ]
    }
   ],
   "source": [
    "s = input('Enter Any String: ')\n",
    "print('In Forward Direction:')\n",
    "for x in s:\n",
    "    print(x)\n",
    "print('In Backward Direction:')\n",
    "for x in s[::-1]:\n",
    "    print(x)\n"
   ]
  },
  {
   "cell_type": "code",
   "execution_count": 241,
   "id": "9a6dce69-1cfa-45e7-8996-4a68f643ee1c",
   "metadata": {},
   "outputs": [
    {
     "name": "stdout",
     "output_type": "stream",
     "text": [
      "Enter First String:  aman\n",
      "Enter Second String:  Aman\n"
     ]
    },
    {
     "name": "stdout",
     "output_type": "stream",
     "text": [
      "First String is greater than Second String\n"
     ]
    }
   ],
   "source": [
    "# string comparison\n",
    "\n",
    "s1 = input('Enter First String: ')\n",
    "s2 = input('Enter Second String: ')\n",
    "if s1 == s2:\n",
    "    print('Both Strings are equal')\n",
    "elif s1 < s2:\n",
    "    print('First String is less than Second String')\n",
    "else:\n",
    "    print('First String is greater than Second String')\n"
   ]
  },
  {
   "cell_type": "code",
   "execution_count": 246,
   "id": "86233f39-94aa-4fc8-843b-08b2b5e2e9eb",
   "metadata": {},
   "outputs": [
    {
     "name": "stdout",
     "output_type": "stream",
     "text": [
      "Enter Your City Name:   Hyderabad\n"
     ]
    },
    {
     "name": "stdout",
     "output_type": "stream",
     "text": [
      "Your Entered City  Hyderabad is invalid\n"
     ]
    }
   ],
   "source": [
    "city = input('Enter Your City Name: ')\n",
    "if city == 'Hyderabad':\n",
    "    print('Hello Hyderabadi.. Aadaab')\n",
    "elif city == 'Chennai':\n",
    "    print('Hello Madrasi...Vanakkam')\n",
    "elif city == 'Bangalore':\n",
    "    print('Hello Kannadiga.. Namaskara')\n",
    "else:\n",
    "    print('Your Entered City', city, 'is invalid')"
   ]
  },
  {
   "cell_type": "code",
   "execution_count": 254,
   "id": "e2c3fc7f-b981-43db-b7a1-cd4aeb49439d",
   "metadata": {},
   "outputs": [
    {
     "name": "stdout",
     "output_type": "stream",
     "text": [
      "Enter Your City Name:   Hyderabad mumbai\n"
     ]
    },
    {
     "name": "stdout",
     "output_type": "stream",
     "text": [
      "Your Entered City  Hyderabad mumbai is invalid\n"
     ]
    }
   ],
   "source": [
    "city = input('Enter Your City Name: ')\n",
    "scity = city.strip()\n",
    "if scity == 'Hyderabad':\n",
    "    print('Hello Hyderabadi.. Aadaab')\n",
    "elif scity == 'Chennai':\n",
    "    print('Hello Madrasi...Vanakkam')\n",
    "elif scity == 'Bangalore':\n",
    "    print('Hello Kannadiga.. Namaskara')\n",
    "else:\n",
    "    print('Your Entered City', city, 'is invalid')"
   ]
  },
  {
   "cell_type": "code",
   "execution_count": null,
   "id": "886d0a0d-cdae-4ff6-ae98-c418282a70e5",
   "metadata": {},
   "outputs": [],
   "source": [
    "# Finding substrings:\n",
    "# find()\n",
    "# index()\n",
    "# rfind()\n",
    "# rindex()\n",
    "# string.find(substring)\n",
    "# Returns index of first occurrence of the given substring.\n",
    "# Returns -1 if it is not available.\n"
   ]
  },
  {
   "cell_type": "code",
   "execution_count": 263,
   "id": "2e3cd3f8-80d0-4a4c-b678-cfecf2325de5",
   "metadata": {},
   "outputs": [
    {
     "name": "stdout",
     "output_type": "stream",
     "text": [
      "3\n",
      "24\n",
      "-1\n",
      "9\n"
     ]
    }
   ],
   "source": [
    "s = 'Learning Python is very python easy' # It returns index of 1st occurence of given substring\n",
    "#print(s.find('Python'))  # 9\n",
    "#print(s.find('java'))    # -1\n",
    "print(s.find('r'))       # 3\n",
    "\n",
    "print(s.rfind('python'))  # 23\n",
    "\n",
    "#s = 'Learning Python is very easy'\n",
    "print(s.find('Python', 15, 26))  # -1\n",
    "#print(s.rfind('Python'))\n",
    "\n",
    "# find(substring, begin, end)\n",
    "# from begin to end-1\n",
    "# 15 to 24"
   ]
  },
  {
   "cell_type": "code",
   "execution_count": 256,
   "id": "2feaebfe-e064-4c06-932e-9ef285de96b0",
   "metadata": {},
   "outputs": [
    {
     "data": {
      "text/plain": [
       "'abhi'"
      ]
     },
     "execution_count": 256,
     "metadata": {},
     "output_type": "execute_result"
    }
   ],
   "source": [
    "s = 'aman abhi pankaj'# substring \n",
    "s[5:9]\n"
   ]
  },
  {
   "cell_type": "code",
   "execution_count": 260,
   "id": "bb7f26e7-b781-4cc1-8648-351e02c0f5b1",
   "metadata": {},
   "outputs": [
    {
     "name": "stdout",
     "output_type": "stream",
     "text": [
      "A B C\n"
     ]
    }
   ],
   "source": [
    "s= \"A B C D E F G H I J\"\n",
    "print (s[0:5])"
   ]
  },
  {
   "cell_type": "code",
   "execution_count": 279,
   "id": "ed35cfd4-a549-4831-8984-46153ab8a977",
   "metadata": {},
   "outputs": [
    {
     "name": "stdout",
     "output_type": "stream",
     "text": [
      "24\n"
     ]
    }
   ],
   "source": [
    "s = 'Learning Python is very python easy'\n",
    "print(s.find('python', 15, 30))  # -1"
   ]
  },
  {
   "cell_type": "code",
   "execution_count": 280,
   "id": "53981b44-e0d3-493b-9a67-d18525bf2c13",
   "metadata": {},
   "outputs": [
    {
     "name": "stdout",
     "output_type": "stream",
     "text": [
      "19\n"
     ]
    }
   ],
   "source": [
    "s = 'Learning Python is very easy'\n",
    "print(s.find('v', 15, 25)) "
   ]
  },
  {
   "cell_type": "code",
   "execution_count": 283,
   "id": "616c419f-d042-46ea-84e7-27f4873e4d12",
   "metadata": {},
   "outputs": [
    {
     "name": "stdout",
     "output_type": "stream",
     "text": [
      "0\n"
     ]
    }
   ],
   "source": [
    "s = 'aaaaaaaaaabbbbaaaaaabaaaaaaa'\n",
    "print(s.find('a'))  # 0"
   ]
  },
  {
   "cell_type": "code",
   "execution_count": 284,
   "id": "7eb084fd-05a7-41ee-8291-e781bacc2c7c",
   "metadata": {},
   "outputs": [
    {
     "name": "stdout",
     "output_type": "stream",
     "text": [
      "0\n",
      "14\n",
      "10\n",
      "14\n"
     ]
    }
   ],
   "source": [
    "s = 'aaaabbbbbbaaaaabbbbbbbbb'\n",
    "print(s.find('a'))         # 0\n",
    "print(s.rfind('a'))        # 15\n",
    "print(s.find('a', 5, 20))  # 11\n",
    "print(s.rfind('a', 5, 20)) # 15\n"
   ]
  },
  {
   "cell_type": "code",
   "execution_count": null,
   "id": "35917d88-b9a5-4ba5-b2e0-02650ab72518",
   "metadata": {},
   "outputs": [],
   "source": [
    "# Finding the substrings:\n",
    "# find(substring)\n",
    "# find(substring, begin, end)\n",
    "# rfind(substring)\n",
    "# rfind(substring, begin, end)\n",
    "# index(substring)\n",
    "# index(substring, begin, end)\n",
    "# rindex(substring)\n",
    "# rindex(substring, begin, end)"
   ]
  },
  {
   "cell_type": "code",
   "execution_count": null,
   "id": "cc4f93cc-d659-4d3a-a8aa-dc5ccb2f4a34",
   "metadata": {},
   "outputs": [],
   "source": [
    "# find(substring)\n",
    "# if the specified substring not present it returns -1\n",
    "\n",
    "# index() method is exactly same as find() method except that if the specified substring is not available then we will get ValueError."
   ]
  },
  {
   "cell_type": "code",
   "execution_count": 286,
   "id": "cd3a900c-c021-4d5b-a894-e35411fc16e2",
   "metadata": {},
   "outputs": [
    {
     "name": "stdout",
     "output_type": "stream",
     "text": [
      "9\n",
      "27\n",
      "9\n",
      "27\n"
     ]
    },
    {
     "ename": "ValueError",
     "evalue": "substring not found",
     "output_type": "error",
     "traceback": [
      "\u001b[1;31m---------------------------------------------------------------------------\u001b[0m",
      "\u001b[1;31mValueError\u001b[0m                                Traceback (most recent call last)",
      "Cell \u001b[1;32mIn[286], line 6\u001b[0m\n\u001b[0;32m      4\u001b[0m \u001b[38;5;28mprint\u001b[39m(s\u001b[38;5;241m.\u001b[39mindex(\u001b[38;5;124m'\u001b[39m\u001b[38;5;124mp\u001b[39m\u001b[38;5;124m'\u001b[39m))   \u001b[38;5;66;03m# 9\u001b[39;00m\n\u001b[0;32m      5\u001b[0m \u001b[38;5;28mprint\u001b[39m(s\u001b[38;5;241m.\u001b[39mrindex(\u001b[38;5;124m'\u001b[39m\u001b[38;5;124my\u001b[39m\u001b[38;5;124m'\u001b[39m))  \u001b[38;5;66;03m# 27\u001b[39;00m\n\u001b[1;32m----> 6\u001b[0m \u001b[38;5;28mprint\u001b[39m(\u001b[43ms\u001b[49m\u001b[38;5;241;43m.\u001b[39;49m\u001b[43mindex\u001b[49m\u001b[43m(\u001b[49m\u001b[38;5;124;43m'\u001b[39;49m\u001b[38;5;124;43mz\u001b[39;49m\u001b[38;5;124;43m'\u001b[39;49m\u001b[43m)\u001b[49m)  \u001b[38;5;66;03m# ValueError: substring not found\u001b[39;00m\n",
      "\u001b[1;31mValueError\u001b[0m: substring not found"
     ]
    }
   ],
   "source": [
    "s = 'Learning python is very easy'\n",
    "print(s.find('p'))    # 9\n",
    "print(s.rfind('y'))   # 27\n",
    "print(s.index('p'))   # 9\n",
    "print(s.rindex('y'))  # 27\n",
    "print(s.index('z'))  # ValueError: substring not found"
   ]
  },
  {
   "cell_type": "code",
   "execution_count": 293,
   "id": "d7bd6ae5-3508-4e33-a3ef-94cae8394da6",
   "metadata": {},
   "outputs": [
    {
     "name": "stdout",
     "output_type": "stream",
     "text": [
      "Enter Main String:  aman\n",
      "Enter sub String:  m\n"
     ]
    },
    {
     "name": "stdout",
     "output_type": "stream",
     "text": [
      "Found at index: 1\n",
      "2\n"
     ]
    }
   ],
   "source": [
    "s = input('Enter Main String: ')\n",
    "subs = input('Enter sub String: ')\n",
    "n = len(s)\n",
    "pos = 0\n",
    "while True:\n",
    "    i = s.find(subs, pos, n)\n",
    "    if i == -1:\n",
    "        #print(\"exiting loop\")\n",
    "        break\n",
    "    else:\n",
    "        print('Found at index:', i)\n",
    "        pos = i + len(subs)\n",
    "print(pos)"
   ]
  },
  {
   "cell_type": "code",
   "execution_count": 295,
   "id": "6ddd5438-5b72-477a-8fc4-194a90d8ea4d",
   "metadata": {},
   "outputs": [
    {
     "name": "stdout",
     "output_type": "stream",
     "text": [
      "Enter Main String:  python is very very easy to learn\n",
      "Enter sub String:  very\n"
     ]
    },
    {
     "name": "stdout",
     "output_type": "stream",
     "text": [
      "Found at index: 10\n",
      "Found at index: 15\n",
      "The Total Number of Occurrences: 2\n"
     ]
    }
   ],
   "source": [
    "s = input('Enter Main String: ')\n",
    "subs = input('Enter sub String: ')\n",
    "n = len(s)\n",
    "pos = 0\n",
    "count = 0\n",
    "while True:\n",
    "    i = s.find(subs, pos, n)\n",
    "    if i == -1:\n",
    "        break\n",
    "    else:\n",
    "        print('Found at index:', i)\n",
    "        count += 1\n",
    "        pos = i + len(subs)\n",
    "print('The Total Number of Occurrences:', count)"
   ]
  },
  {
   "cell_type": "code",
   "execution_count": 297,
   "id": "fc7ebe9d-5451-423b-8f19-89e98ee806f4",
   "metadata": {},
   "outputs": [
    {
     "name": "stdout",
     "output_type": "stream",
     "text": [
      "Enter Main String:  python is very very easy to learn\n",
      "Enter sub String:  very\n"
     ]
    },
    {
     "name": "stdout",
     "output_type": "stream",
     "text": [
      "The Total Number of Occurrences: 2\n",
      "The Total Number of Occurrences: 1\n"
     ]
    }
   ],
   "source": [
    "s = input('Enter Main String: ')\n",
    "subs = input('Enter sub String: ')\n",
    "print('The Total Number of Occurrences:', s.count(subs))\n",
    "print('The Total Number of Occurrences:', s.count(subs, 4, 15))\n"
   ]
  },
  {
   "cell_type": "code",
   "execution_count": 301,
   "id": "866ad0d9-824d-40d8-8c04-c5959954df08",
   "metadata": {},
   "outputs": [
    {
     "name": "stdout",
     "output_type": "stream",
     "text": [
      "Learning Python is very easy and very easy  easy  easy \n"
     ]
    }
   ],
   "source": [
    "s = 'Learning Python is very difficult and very difficult  difficult  difficult ' # replace str with another str\n",
    "s1 = s.replace('difficult', 'easy')\n",
    "print(s1)"
   ]
  },
  {
   "cell_type": "code",
   "execution_count": 299,
   "id": "6d5140be-2454-455a-9aa5-7e73d7002ba1",
   "metadata": {},
   "outputs": [
    {
     "name": "stdout",
     "output_type": "stream",
     "text": [
      "bbbbbbbbbbbb\n"
     ]
    }
   ],
   "source": [
    "s = 'abababababab'\n",
    "s1 = s.replace('a', 'b')\n",
    "print(s1)\n"
   ]
  },
  {
   "cell_type": "code",
   "execution_count": 303,
   "id": "8d6bf8eb-6992-4f6a-899f-784d9f8ad694",
   "metadata": {},
   "outputs": [
    {
     "name": "stdout",
     "output_type": "stream",
     "text": [
      " aba bab aba ba b \n",
      "abababababab\n"
     ]
    }
   ],
   "source": [
    "s = ' aba bab aba ba b '\n",
    "s1 = s.replace(' ', '')\n",
    "print(s)\n",
    "print(s1)"
   ]
  },
  {
   "cell_type": "code",
   "execution_count": 305,
   "id": "90ee29e5-ac09-4430-b938-5b09629a1409",
   "metadata": {},
   "outputs": [
    {
     "name": "stdout",
     "output_type": "stream",
     "text": [
      "abababababab\n",
      "6\n"
     ]
    }
   ],
   "source": [
    "s = ' aba bab aba ba b ' # string is immutable, how replace() method works.\n",
    "s1 = s.replace(' ', '')\n",
    "print(s1)\n",
    "print(len(s) - len(s1))"
   ]
  },
  {
   "cell_type": "code",
   "execution_count": 307,
   "id": "27f69ef4-c5ef-4bb7-86e8-88078c27e9e8",
   "metadata": {},
   "outputs": [
    {
     "name": "stdout",
     "output_type": "stream",
     "text": [
      "durga\n",
      "software\n",
      "solutions\n",
      "<class 'list'>\n",
      "<class 'str'>\n"
     ]
    }
   ],
   "source": [
    "s = 'durga software solutions'\n",
    "l = s.split()\n",
    "for x in l:\n",
    "    print(x)\n",
    "print(type(l))\n",
    "print(type(s))"
   ]
  },
  {
   "cell_type": "code",
   "execution_count": 309,
   "id": "705c637c-65f2-4dd4-b475-d6c7e8088bf0",
   "metadata": {},
   "outputs": [
    {
     "name": "stdout",
     "output_type": "stream",
     "text": [
      "one\n",
      "two\n",
      "three\n",
      "four\n",
      "five\n"
     ]
    }
   ],
   "source": [
    "s = 'one,two,three,four,five'\n",
    "l = s.split(',')\n",
    "for x in l:\n",
    "    print(x)\n"
   ]
  },
  {
   "cell_type": "code",
   "execution_count": 315,
   "id": "bd21a24c-c12c-4ec9-8541-1d7db5656388",
   "metadata": {},
   "outputs": [
    {
     "name": "stdout",
     "output_type": "stream",
     "text": [
      "01-08-2020\n",
      "<class 'list'>\n"
     ]
    }
   ],
   "source": [
    "s = '01-08-2020'\n",
    "l1 = s.split('$')\n",
    "for x in l1:\n",
    "    print(x)\n",
    "\n",
    "print(type(l1))"
   ]
  },
  {
   "cell_type": "code",
   "execution_count": null,
   "id": "c34999e4-f449-431c-9034-e4c354998095",
   "metadata": {},
   "outputs": [],
   "source": [
    "#The split() method in Python is exclusively available for string objects. \n",
    "#It serves the purpose of dividing a string into a list of substrings based on a specified delimiter.\n",
    "#If no delimiter is provided, it defaults to splitting the string at whitespace characters."
   ]
  }
 ],
 "metadata": {
  "kernelspec": {
   "display_name": "Python 3 (ipykernel)",
   "language": "python",
   "name": "python3"
  },
  "language_info": {
   "codemirror_mode": {
    "name": "ipython",
    "version": 3
   },
   "file_extension": ".py",
   "mimetype": "text/x-python",
   "name": "python",
   "nbconvert_exporter": "python",
   "pygments_lexer": "ipython3",
   "version": "3.12.4"
  }
 },
 "nbformat": 4,
 "nbformat_minor": 5
}
